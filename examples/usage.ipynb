{
  "cells": [
    {
      "cell_type": "markdown",
      "source": [
        "# Adaptive.jl \n",
        "a wrapper to a python adaptive package https://github.com/python-adaptive/adaptive"
      ],
      "metadata": {}
    },
    {
      "cell_type": "code",
      "source": [
        "using Adaptive\n",
        "using Distributed\n",
        "using TaskMaster\n",
        "using PyPlot\n",
        "\naddprocs(2)"
      ],
      "outputs": [],
      "execution_count": null,
      "metadata": {
        "collapsed": false,
        "outputHidden": false,
        "inputHidden": false
      }
    },
    {
      "cell_type": "markdown",
      "source": [
        "## AdaptiveLearner1D "
      ],
      "metadata": {}
    },
    {
      "cell_type": "code",
      "source": [
        "@everywhere f(x) = exp(-x^2)\n",
        "\n",
        "fig = figure()\n",
        "\n",
        "x = collect(linspace(-2,2,200))\n",
        "plot(x,f.(x),label=L\"e^{-x^2}\")\n",
        "\n",
        "xx = range(-2,stop=2,length=20)\n",
        "plot(collect(xx),f.(xx),\".-\",label=\"even sampling\")\n",
        "\n",
        "learner = AdaptiveLearner1D((-2,+2))\n",
        "evaluate(f,learner,learner->length(learner.data)==20)\n",
        "\n",
        "plot(learner.x,learner.y,\".-\",label=\"AdaptiveLearner1D\")\n",
        "\n",
        "legend()\n",
        "show()"
      ],
      "outputs": [],
      "execution_count": null,
      "metadata": {
        "collapsed": false,
        "outputHidden": false,
        "inputHidden": false
      }
    },
    {
      "cell_type": "markdown",
      "source": [
        "## AdaptiveLearner2D"
      ],
      "metadata": {}
    },
    {
      "cell_type": "code",
      "source": [
        "#@everywhere f(p) = ((x,y)=p; exp(-(x^2 + y^2 - 0.75^2)^2/0.2^4))\n",
        "@everywhere f(p) = exp(-p[1]^2 - p[2]^2)\n",
        "\n",
        "learner = AdaptiveLearner2D([(-3,+3),(-3,+3)])\n",
        "evaluate(f,learner,learner->length(learner.data)==100)\n",
        "\n",
        "fig = figure()\n",
        "\n",
        "p,tri,v = learner.points, learner.vertices, learner.values\n",
        "\n",
        "tricontourf(p[:,1],p[:,2],tri,v)\n",
        "triplot(p[:,1],p[:,2],tri,\"k.-\")\n",
        "\nshow()"
      ],
      "outputs": [],
      "execution_count": null,
      "metadata": {
        "collapsed": false,
        "outputHidden": false,
        "inputHidden": false
      }
    }
  ],
  "metadata": {
    "kernel_info": {
      "name": "python3"
    },
    "language_info": {
      "name": "python",
      "version": "3.6.7",
      "mimetype": "text/x-python",
      "codemirror_mode": {
        "name": "ipython",
        "version": 3
      },
      "pygments_lexer": "ipython3",
      "nbconvert_exporter": "python",
      "file_extension": ".py"
    },
    "kernelspec": {
      "name": "python3",
      "language": "python",
      "display_name": "Python 3"
    },
    "nteract": {
      "version": "0.12.3"
    }
  },
  "nbformat": 4,
  "nbformat_minor": 4
}